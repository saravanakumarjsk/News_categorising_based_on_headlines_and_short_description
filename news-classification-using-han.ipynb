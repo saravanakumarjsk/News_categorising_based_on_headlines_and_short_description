{
 "cells": [
  {
   "cell_type": "markdown",
   "metadata": {
    "_uuid": "fdcbdafbf026e738c60a727a37a1de5688171cb4"
   },
   "source": [
    "Since the uprising of Artificial Intelligence, text classification has become one of the most staggering tasks to accomplish. In layman terms, We can say Artificial Intelligence is the field which tries to achieve human-like intelligent models to ease the jobs for all of us. We have an astounding proficiency in text classification but even many sophisticated NLP models are failed to achieve proficiency even close to it. So the question arises is that what we humans do differently? How do we classify text?\n",
    "\n",
    "First of all, we understand words not each and every word but many of them and we can guess even unknown words just by the structure of a sentence. Then we understand the message that those series of words (sentence) conveys. Then from those series of sentences, we understand the meaning of a paragraph or an article. The similar approach is used in Hierarchical Attention model.\n",
    "\n",
    "**To Learn Hierarchical Attention Network completely go [here](https://medium.com/@heetsankesara3/hierarchical-attention-networks-d220318cf87e)**\n",
    "\n",
    "** Click [here](https://github.com/Hsankesara/DeepResearch/tree/master/Hierarchical_Attention_Network) to go to the code**\n"
   ]
  },
  {
   "cell_type": "code",
   "execution_count": 1,
   "metadata": {
    "_uuid": "1642a59f5e4d475a1757b74cf74fc4f48f5cecc3",
    "colab": {
     "base_uri": "https://localhost:8080/",
     "height": 35
    },
    "colab_type": "code",
    "id": "svDDvMhYgxwM",
    "outputId": "95a9914f-ce8e-46f6-e9fb-46d2671cb78f"
   },
   "outputs": [
    {
     "name": "stderr",
     "output_type": "stream",
     "text": [
      "Using TensorFlow backend.\n"
     ]
    }
   ],
   "source": [
    "import pandas as pd\n",
    "import numpy as np\n",
    "from keras.preprocessing.text import Tokenizer,  text_to_word_sequence\n",
    "from keras.engine.topology import Layer\n",
    "from keras import initializers as initializers, regularizers, constraints\n",
    "from keras.callbacks import Callback, ModelCheckpoint\n",
    "from keras.utils.np_utils import to_categorical\n",
    "from keras.layers import Embedding, Input, Dense, LSTM, GRU, Bidirectional, TimeDistributed, Dropout\n",
    "from keras import backend as K\n",
    "from keras import optimizers\n",
    "from keras.models import Model\n",
    "import nltk\n",
    "import re\n",
    "import matplotlib.pyplot as plt\n",
    "import sys\n",
    "from sklearn.metrics import roc_auc_score\n",
    "from nltk import tokenize\n",
    "import seaborn as sns"
   ]
  },
  {
   "cell_type": "markdown",
   "metadata": {
    "_uuid": "4440f99cbe40c318bd13ee6ecbbe1a3cb162fa40",
    "colab_type": "text",
    "id": "u01IFY1Hgxwf"
   },
   "source": [
    "### Attention Layer"
   ]
  },
  {
   "cell_type": "code",
   "execution_count": 2,
   "metadata": {
    "_uuid": "668e772f91421e5a8e87c3f97429c04d1d372f0d",
    "colab": {},
    "colab_type": "code",
    "id": "XbOJEMv7gxwi"
   },
   "outputs": [],
   "source": [
    "def dot_product(x, kernel):\n",
    "    \"\"\"\n",
    "    Wrapper for dot product operation, in order to be compatible with both\n",
    "    Theano and Tensorflow\n",
    "    Args:\n",
    "        x (): input\n",
    "        kernel (): weights\n",
    "    Returns:\n",
    "    \"\"\"\n",
    "    if K.backend() == 'tensorflow':\n",
    "        return K.squeeze(K.dot(x, K.expand_dims(kernel)), axis=-1)\n",
    "    else:\n",
    "        return K.dot(x, kernel)\n",
    "\n",
    "class AttentionWithContext(Layer):\n",
    "    \"\"\"\n",
    "    Attention operation, with a context/query vector, for temporal data.\n",
    "    Supports Masking.\n",
    "    Follows the work of Yang et al. [https://www.cs.cmu.edu/~diyiy/docs/naacl16.pdf]\n",
    "    \"Hierarchical Attention Networks for Document Classification\"\n",
    "    by using a context vector to assist the attention\n",
    "    # Input shape\n",
    "        3D tensor with shape: `(samples, steps, features)`.\n",
    "    # Output shape\n",
    "        2D tensor with shape: `(samples, features)`.\n",
    "    How to use:\n",
    "    Just put it on top of an RNN Layer (GRU/LSTM/SimpleRNN) with return_sequences=True.\n",
    "    The dimensions are inferred based on the output shape of the RNN.\n",
    "    Note: The layer has been tested with Keras 2.0.6\n",
    "    Example:\n",
    "        model.add(LSTM(64, return_sequences=True))\n",
    "        model.add(AttentionWithContext())\n",
    "        # next add a Dense layer (for classification/regression) or whatever...\n",
    "    \"\"\"\n",
    "\n",
    "    def __init__(self,\n",
    "                 W_regularizer=None, u_regularizer=None, b_regularizer=None,\n",
    "                 W_constraint=None, u_constraint=None, b_constraint=None,\n",
    "                 bias=True, **kwargs):\n",
    "\n",
    "        self.supports_masking = True\n",
    "        self.init = initializers.get('glorot_uniform')\n",
    "\n",
    "        self.W_regularizer = regularizers.get(W_regularizer)\n",
    "        self.u_regularizer = regularizers.get(u_regularizer)\n",
    "        self.b_regularizer = regularizers.get(b_regularizer)\n",
    "\n",
    "        self.W_constraint = constraints.get(W_constraint)\n",
    "        self.u_constraint = constraints.get(u_constraint)\n",
    "        self.b_constraint = constraints.get(b_constraint)\n",
    "\n",
    "        self.bias = bias\n",
    "        super(AttentionWithContext, self).__init__(**kwargs)\n",
    "\n",
    "    def build(self, input_shape):\n",
    "        assert len(input_shape) == 3\n",
    "\n",
    "        self.W = self.add_weight((input_shape[-1], input_shape[-1],),\n",
    "                                 initializer=self.init,\n",
    "                                 name='{}_W'.format(self.name),\n",
    "                                 regularizer=self.W_regularizer,\n",
    "                                 constraint=self.W_constraint)\n",
    "        if self.bias:\n",
    "            self.b = self.add_weight((input_shape[-1],),\n",
    "                                     initializer='zero',\n",
    "                                     name='{}_b'.format(self.name),\n",
    "                                     regularizer=self.b_regularizer,\n",
    "                                     constraint=self.b_constraint)\n",
    "\n",
    "        self.u = self.add_weight((input_shape[-1],),\n",
    "                                 initializer=self.init,\n",
    "                                 name='{}_u'.format(self.name),\n",
    "                                 regularizer=self.u_regularizer,\n",
    "                                 constraint=self.u_constraint)\n",
    "\n",
    "        super(AttentionWithContext, self).build(input_shape)\n",
    "\n",
    "    def compute_mask(self, input, input_mask=None):\n",
    "        # do not pass the mask to the next layers\n",
    "        return None\n",
    "\n",
    "    def call(self, x, mask=None):\n",
    "        uit = dot_product(x, self.W)\n",
    "\n",
    "        if self.bias:\n",
    "            uit += self.b\n",
    "\n",
    "        uit = K.tanh(uit)\n",
    "        ait = dot_product(uit, self.u)\n",
    "\n",
    "        a = K.exp(ait)\n",
    "\n",
    "        # apply mask after the exp. will be re-normalized next\n",
    "        if mask is not None:\n",
    "            # Cast the mask to floatX to avoid float64 upcasting in theano\n",
    "            a *= K.cast(mask, K.floatx())\n",
    "\n",
    "        # in some cases especially in the early stages of training the sum may be almost zero\n",
    "        # and this results in NaN's. A workaround is to add a very small positive number ε to the sum.\n",
    "        # a /= K.cast(K.sum(a, axis=1, keepdims=True), K.floatx())\n",
    "        a /= K.cast(K.sum(a, axis=1, keepdims=True) + K.epsilon(), K.floatx())\n",
    "\n",
    "        a = K.expand_dims(a)\n",
    "        weighted_input = x * a\n",
    "        return K.sum(weighted_input, axis=1)\n",
    "\n",
    "    def compute_output_shape(self, input_shape):\n",
    "        return input_shape[0], input_shape[-1]"
   ]
  },
  {
   "cell_type": "markdown",
   "metadata": {
    "_uuid": "de867e70a1b042a2ac5a31a8fdcb0dbc2ddc13f9",
    "colab_type": "text",
    "id": "rWL4urlHgxwu"
   },
   "source": [
    "### Config"
   ]
  },
  {
   "cell_type": "code",
   "execution_count": 3,
   "metadata": {
    "_uuid": "8e970050b9852e54e964961fe0110226348860c1",
    "colab": {},
    "colab_type": "code",
    "id": "wvVCtTJbgxwx"
   },
   "outputs": [],
   "source": [
    "max_features=200000\n",
    "max_senten_len=150\n",
    "max_senten_num=4\n",
    "embed_size=100\n",
    "VALIDATION_SPLIT = 0.2"
   ]
  },
  {
   "cell_type": "markdown",
   "metadata": {
    "_uuid": "da31e0150178690c03f71da4f77c1883a4639cb3",
    "colab_type": "text",
    "id": "iphJED4Qgxw8"
   },
   "source": [
    "### Data"
   ]
  },
  {
   "cell_type": "code",
   "execution_count": 4,
   "metadata": {
    "_uuid": "66b5c24a07ba29ee90cb163703dcf9433249000a",
    "colab": {},
    "colab_type": "code",
    "id": "SISE6xEnrKx_"
   },
   "outputs": [],
   "source": [
    "from sklearn.utils import shuffle"
   ]
  },
  {
   "cell_type": "code",
   "execution_count": 20,
   "metadata": {
    "_uuid": "1dfa79cd274172897f8f5a90594e7cbe1d30fc30",
    "colab": {},
    "colab_type": "code",
    "id": "83stXVBjgxw-"
   },
   "outputs": [
    {
     "name": "stdout",
     "output_type": "stream",
     "text": [
      "                0\n",
      "0        POLITICS\n",
      "1  HEALTHY LIVING\n",
      "2         PARENTS\n",
      "3   ENTERTAINMENT\n",
      "4        BUSINESS\n"
     ]
    }
   ],
   "source": [
    "df = shuffle(pd.read_json(r'C:\\\\Users\\\\jana\\\\Desktop\\\\new project\\\\DeepResearch-master\\\\Hierarchical_Attention_Network\\News_Category_Dataset\\\\News_Category_Dataset.json', lines=True)).reset_index()\n",
    "print(pd.DataFrame(df['category'][:6].unique()))\n",
    "#print(pd.DataFrame(df['authors'].unique()))"
   ]
  },
  {
   "cell_type": "code",
   "execution_count": 21,
   "metadata": {
    "_uuid": "bf9f1ccf81d0e91bc2722f119677314301a73af3",
    "colab": {
     "base_uri": "https://localhost:8080/",
     "height": 35
    },
    "colab_type": "code",
    "id": "yn2rJmMsfPOO",
    "outputId": "e8cc4a75-083a-4099-a16b-a4e9c414fb93"
   },
   "outputs": [
    {
     "data": {
      "text/plain": [
       "31"
      ]
     },
     "execution_count": 21,
     "metadata": {},
     "output_type": "execute_result"
    }
   ],
   "source": [
    "len(df.category.unique())"
   ]
  },
  {
   "cell_type": "code",
   "execution_count": 22,
   "metadata": {
    "_uuid": "4e2ea661300670641050fd8870ce3cea821f1a2d",
    "colab": {
     "base_uri": "https://localhost:8080/",
     "height": 588
    },
    "colab_type": "code",
    "id": "mkBa2gzGq5MD",
    "outputId": "343f8c37-4ce1-4821-f42b-aee7c944d6b3"
   },
   "outputs": [
    {
     "data": {
      "text/html": [
       "<div>\n",
       "<style scoped>\n",
       "    .dataframe tbody tr th:only-of-type {\n",
       "        vertical-align: middle;\n",
       "    }\n",
       "\n",
       "    .dataframe tbody tr th {\n",
       "        vertical-align: top;\n",
       "    }\n",
       "\n",
       "    .dataframe thead th {\n",
       "        text-align: right;\n",
       "    }\n",
       "</style>\n",
       "<table border=\"1\" class=\"dataframe\">\n",
       "  <thead>\n",
       "    <tr style=\"text-align: right;\">\n",
       "      <th></th>\n",
       "      <th>index</th>\n",
       "      <th>authors</th>\n",
       "      <th>category</th>\n",
       "      <th>date</th>\n",
       "      <th>headline</th>\n",
       "      <th>link</th>\n",
       "      <th>short_description</th>\n",
       "    </tr>\n",
       "  </thead>\n",
       "  <tbody>\n",
       "    <tr>\n",
       "      <th>0</th>\n",
       "      <td>61312</td>\n",
       "      <td>Arthur Delaney and Zach Carter</td>\n",
       "      <td>POLITICS</td>\n",
       "      <td>2016-04-15</td>\n",
       "      <td>This Democrat Is Channeling FDR With A Plan To...</td>\n",
       "      <td>https://www.huffingtonpost.com/entry/zephyr-te...</td>\n",
       "      <td>Zephyr Teachout pitches more broadband as part...</td>\n",
       "    </tr>\n",
       "    <tr>\n",
       "      <th>1</th>\n",
       "      <td>35342</td>\n",
       "      <td>Mary Papenfuss</td>\n",
       "      <td>POLITICS</td>\n",
       "      <td>2017-02-04</td>\n",
       "      <td>Michigan GOP Official Calls For 'Another Kent ...</td>\n",
       "      <td>https://www.huffingtonpost.com/entry/michigan-...</td>\n",
       "      <td>\"One bullet stops a lot of thuggery,\" tweets D...</td>\n",
       "    </tr>\n",
       "    <tr>\n",
       "      <th>2</th>\n",
       "      <td>77366</td>\n",
       "      <td>Kira Brekke</td>\n",
       "      <td>HEALTHY LIVING</td>\n",
       "      <td>2015-10-16</td>\n",
       "      <td>How Lisa Simpson Changed The Vegetarian Game</td>\n",
       "      <td>https://www.huffingtonpost.com/entry/lisa-simp...</td>\n",
       "      <td>\"The Simpsons\" character kissed meat goodbye t...</td>\n",
       "    </tr>\n",
       "    <tr>\n",
       "      <th>3</th>\n",
       "      <td>11227</td>\n",
       "      <td>Cindy Arboleda, Yahoo Lifestyle</td>\n",
       "      <td>PARENTS</td>\n",
       "      <td>2017-11-22</td>\n",
       "      <td>Mom Tracked Down The Same Stuffed Animal Her S...</td>\n",
       "      <td>https://www.huffingtonpost.com/entry/mom-track...</td>\n",
       "      <td>Nick Hollinger has held onto his stuffed anima...</td>\n",
       "    </tr>\n",
       "    <tr>\n",
       "      <th>4</th>\n",
       "      <td>2172</td>\n",
       "      <td>Jenna Amatulli</td>\n",
       "      <td>ENTERTAINMENT</td>\n",
       "      <td>2018-04-16</td>\n",
       "      <td>Fans Think Beyoncé Changed Her Nail Color Mid-...</td>\n",
       "      <td>https://www.huffingtonpost.com/entry/beyonce-c...</td>\n",
       "      <td>The singer did put on an incredible performanc...</td>\n",
       "    </tr>\n",
       "  </tbody>\n",
       "</table>\n",
       "</div>"
      ],
      "text/plain": [
       "   index                          authors        category       date  \\\n",
       "0  61312   Arthur Delaney and Zach Carter        POLITICS 2016-04-15   \n",
       "1  35342                   Mary Papenfuss        POLITICS 2017-02-04   \n",
       "2  77366                      Kira Brekke  HEALTHY LIVING 2015-10-16   \n",
       "3  11227  Cindy Arboleda, Yahoo Lifestyle         PARENTS 2017-11-22   \n",
       "4   2172                   Jenna Amatulli   ENTERTAINMENT 2018-04-16   \n",
       "\n",
       "                                            headline  \\\n",
       "0  This Democrat Is Channeling FDR With A Plan To...   \n",
       "1  Michigan GOP Official Calls For 'Another Kent ...   \n",
       "2       How Lisa Simpson Changed The Vegetarian Game   \n",
       "3  Mom Tracked Down The Same Stuffed Animal Her S...   \n",
       "4  Fans Think Beyoncé Changed Her Nail Color Mid-...   \n",
       "\n",
       "                                                link  \\\n",
       "0  https://www.huffingtonpost.com/entry/zephyr-te...   \n",
       "1  https://www.huffingtonpost.com/entry/michigan-...   \n",
       "2  https://www.huffingtonpost.com/entry/lisa-simp...   \n",
       "3  https://www.huffingtonpost.com/entry/mom-track...   \n",
       "4  https://www.huffingtonpost.com/entry/beyonce-c...   \n",
       "\n",
       "                                   short_description  \n",
       "0  Zephyr Teachout pitches more broadband as part...  \n",
       "1  \"One bullet stops a lot of thuggery,\" tweets D...  \n",
       "2  \"The Simpsons\" character kissed meat goodbye t...  \n",
       "3  Nick Hollinger has held onto his stuffed anima...  \n",
       "4  The singer did put on an incredible performanc...  "
      ]
     },
     "execution_count": 22,
     "metadata": {},
     "output_type": "execute_result"
    }
   ],
   "source": [
    "df.head()"
   ]
  },
  {
   "cell_type": "code",
   "execution_count": 24,
   "metadata": {
    "_uuid": "a52cf7f435890a57d153e8da8ffef72bf8d3de39"
   },
   "outputs": [
    {
     "data": {
      "text/plain": [
       "array(['POLITICS', 'HEALTHY LIVING', 'PARENTS', 'ENTERTAINMENT',\n",
       "       'BUSINESS', 'THE WORLDPOST', 'WEIRD NEWS', 'QUEER VOICES',\n",
       "       'SPORTS', 'WOMEN', 'COMEDY', 'BLACK VOICES', 'FIFTY', 'GREEN',\n",
       "       'STYLE', 'ARTS', 'IMPACT', 'WORLDPOST', 'RELIGION', 'CRIME',\n",
       "       'ARTS & CULTURE', 'LATINO VOICES', 'WORLD NEWS', 'MEDIA', 'TASTE',\n",
       "       'SCIENCE', 'TECH', 'TRAVEL', 'COLLEGE', 'GOOD NEWS', 'EDUCATION'],\n",
       "      dtype=object)"
      ]
     },
     "execution_count": 24,
     "metadata": {},
     "output_type": "execute_result"
    }
   ],
   "source": [
    "df.category.unique()"
   ]
  },
  {
   "cell_type": "code",
   "execution_count": 26,
   "metadata": {
    "_uuid": "e93e0b60a468c559b2555c2fa11adc675c6ce9ef"
   },
   "outputs": [
    {
     "name": "stdout",
     "output_type": "stream",
     "text": [
      "0               POLITICS\n",
      "1               POLITICS\n",
      "2         HEALTHY LIVING\n",
      "3                PARENTS\n",
      "4          ENTERTAINMENT\n",
      "5               BUSINESS\n",
      "6              WORLDPOST\n",
      "7         HEALTHY LIVING\n",
      "8              WORLDPOST\n",
      "9               POLITICS\n",
      "10        HEALTHY LIVING\n",
      "11              POLITICS\n",
      "12             WORLDPOST\n",
      "13            WEIRD NEWS\n",
      "14              BUSINESS\n",
      "15              POLITICS\n",
      "16          QUEER VOICES\n",
      "17         ENTERTAINMENT\n",
      "18                SPORTS\n",
      "19              POLITICS\n",
      "20                 WOMEN\n",
      "21              POLITICS\n",
      "22              POLITICS\n",
      "23              POLITICS\n",
      "24              POLITICS\n",
      "25              POLITICS\n",
      "26              POLITICS\n",
      "27              POLITICS\n",
      "28                COMEDY\n",
      "29              POLITICS\n",
      "               ...      \n",
      "124959             GREEN\n",
      "124960            TRAVEL\n",
      "124961           COLLEGE\n",
      "124962         EDUCATION\n",
      "124963     ENTERTAINMENT\n",
      "124964          POLITICS\n",
      "124965     ENTERTAINMENT\n",
      "124966             WOMEN\n",
      "124967             CRIME\n",
      "124968    HEALTHY LIVING\n",
      "124969          POLITICS\n",
      "124970          POLITICS\n",
      "124971          RELIGION\n",
      "124972            TRAVEL\n",
      "124973             CRIME\n",
      "124974     ENTERTAINMENT\n",
      "124975          POLITICS\n",
      "124976          RELIGION\n",
      "124977           PARENTS\n",
      "124978    HEALTHY LIVING\n",
      "124979          RELIGION\n",
      "124980            IMPACT\n",
      "124981          POLITICS\n",
      "124982            SPORTS\n",
      "124983          BUSINESS\n",
      "124984    HEALTHY LIVING\n",
      "124985          POLITICS\n",
      "124986             FIFTY\n",
      "124987         WORLDPOST\n",
      "124988            SPORTS\n",
      "Name: category, Length: 124989, dtype: object\n"
     ]
    }
   ],
   "source": [
    "df.category = df.category.map(lambda x: \"WORLDPOST\" if x == \"THE WORLDPOST\" else x)\n",
    "print(df.category)"
   ]
  },
  {
   "cell_type": "code",
   "execution_count": 29,
   "metadata": {
    "_uuid": "923adeea51ed5a9a2598f456f27a5aa596eb78bd",
    "colab": {},
    "colab_type": "code",
    "id": "cEhKU6wPq5HZ"
   },
   "outputs": [
    {
     "name": "stdout",
     "output_type": "stream",
     "text": [
      "0    This Democrat Is Channeling FDR With A Plan To...\n",
      "1    Michigan GOP Official Calls For 'Another Kent ...\n",
      "2    How Lisa Simpson Changed The Vegetarian Game. ...\n",
      "3    Mom Tracked Down The Same Stuffed Animal Her S...\n",
      "4    Fans Think Beyoncé Changed Her Nail Color Mid-...\n",
      "Name: text, dtype: object\n"
     ]
    }
   ],
   "source": [
    "df['text'] = df['headline'] +'. ' +df['short_description']\n",
    "print(df['text'].head())"
   ]
  },
  {
   "cell_type": "code",
   "execution_count": 30,
   "metadata": {
    "_uuid": "a5fea8907a2d824ba0becf68142efe9ab6c56da6",
    "colab": {
     "base_uri": "https://localhost:8080/",
     "height": 626
    },
    "colab_type": "code",
    "id": "7Q5PnT6M44If",
    "outputId": "994f280b-bc40-4f3a-b288-1b5a922c72cd"
   },
   "outputs": [
    {
     "data": {
      "text/html": [
       "<div>\n",
       "<style scoped>\n",
       "    .dataframe tbody tr th:only-of-type {\n",
       "        vertical-align: middle;\n",
       "    }\n",
       "\n",
       "    .dataframe tbody tr th {\n",
       "        vertical-align: top;\n",
       "    }\n",
       "\n",
       "    .dataframe thead th {\n",
       "        text-align: right;\n",
       "    }\n",
       "</style>\n",
       "<table border=\"1\" class=\"dataframe\">\n",
       "  <thead>\n",
       "    <tr style=\"text-align: right;\">\n",
       "      <th></th>\n",
       "      <th>index</th>\n",
       "      <th>authors</th>\n",
       "      <th>category</th>\n",
       "      <th>date</th>\n",
       "      <th>headline</th>\n",
       "      <th>link</th>\n",
       "      <th>short_description</th>\n",
       "      <th>text</th>\n",
       "    </tr>\n",
       "  </thead>\n",
       "  <tbody>\n",
       "    <tr>\n",
       "      <th>0</th>\n",
       "      <td>61312</td>\n",
       "      <td>Arthur Delaney and Zach Carter</td>\n",
       "      <td>POLITICS</td>\n",
       "      <td>2016-04-15</td>\n",
       "      <td>This Democrat Is Channeling FDR With A Plan To...</td>\n",
       "      <td>https://www.huffingtonpost.com/entry/zephyr-te...</td>\n",
       "      <td>Zephyr Teachout pitches more broadband as part...</td>\n",
       "      <td>This Democrat Is Channeling FDR With A Plan To...</td>\n",
       "    </tr>\n",
       "    <tr>\n",
       "      <th>1</th>\n",
       "      <td>35342</td>\n",
       "      <td>Mary Papenfuss</td>\n",
       "      <td>POLITICS</td>\n",
       "      <td>2017-02-04</td>\n",
       "      <td>Michigan GOP Official Calls For 'Another Kent ...</td>\n",
       "      <td>https://www.huffingtonpost.com/entry/michigan-...</td>\n",
       "      <td>\"One bullet stops a lot of thuggery,\" tweets D...</td>\n",
       "      <td>Michigan GOP Official Calls For 'Another Kent ...</td>\n",
       "    </tr>\n",
       "    <tr>\n",
       "      <th>2</th>\n",
       "      <td>77366</td>\n",
       "      <td>Kira Brekke</td>\n",
       "      <td>HEALTHY LIVING</td>\n",
       "      <td>2015-10-16</td>\n",
       "      <td>How Lisa Simpson Changed The Vegetarian Game</td>\n",
       "      <td>https://www.huffingtonpost.com/entry/lisa-simp...</td>\n",
       "      <td>\"The Simpsons\" character kissed meat goodbye t...</td>\n",
       "      <td>How Lisa Simpson Changed The Vegetarian Game. ...</td>\n",
       "    </tr>\n",
       "    <tr>\n",
       "      <th>3</th>\n",
       "      <td>11227</td>\n",
       "      <td>Cindy Arboleda, Yahoo Lifestyle</td>\n",
       "      <td>PARENTS</td>\n",
       "      <td>2017-11-22</td>\n",
       "      <td>Mom Tracked Down The Same Stuffed Animal Her S...</td>\n",
       "      <td>https://www.huffingtonpost.com/entry/mom-track...</td>\n",
       "      <td>Nick Hollinger has held onto his stuffed anima...</td>\n",
       "      <td>Mom Tracked Down The Same Stuffed Animal Her S...</td>\n",
       "    </tr>\n",
       "    <tr>\n",
       "      <th>4</th>\n",
       "      <td>2172</td>\n",
       "      <td>Jenna Amatulli</td>\n",
       "      <td>ENTERTAINMENT</td>\n",
       "      <td>2018-04-16</td>\n",
       "      <td>Fans Think Beyoncé Changed Her Nail Color Mid-...</td>\n",
       "      <td>https://www.huffingtonpost.com/entry/beyonce-c...</td>\n",
       "      <td>The singer did put on an incredible performanc...</td>\n",
       "      <td>Fans Think Beyoncé Changed Her Nail Color Mid-...</td>\n",
       "    </tr>\n",
       "  </tbody>\n",
       "</table>\n",
       "</div>"
      ],
      "text/plain": [
       "   index                          authors        category       date  \\\n",
       "0  61312   Arthur Delaney and Zach Carter        POLITICS 2016-04-15   \n",
       "1  35342                   Mary Papenfuss        POLITICS 2017-02-04   \n",
       "2  77366                      Kira Brekke  HEALTHY LIVING 2015-10-16   \n",
       "3  11227  Cindy Arboleda, Yahoo Lifestyle         PARENTS 2017-11-22   \n",
       "4   2172                   Jenna Amatulli   ENTERTAINMENT 2018-04-16   \n",
       "\n",
       "                                            headline  \\\n",
       "0  This Democrat Is Channeling FDR With A Plan To...   \n",
       "1  Michigan GOP Official Calls For 'Another Kent ...   \n",
       "2       How Lisa Simpson Changed The Vegetarian Game   \n",
       "3  Mom Tracked Down The Same Stuffed Animal Her S...   \n",
       "4  Fans Think Beyoncé Changed Her Nail Color Mid-...   \n",
       "\n",
       "                                                link  \\\n",
       "0  https://www.huffingtonpost.com/entry/zephyr-te...   \n",
       "1  https://www.huffingtonpost.com/entry/michigan-...   \n",
       "2  https://www.huffingtonpost.com/entry/lisa-simp...   \n",
       "3  https://www.huffingtonpost.com/entry/mom-track...   \n",
       "4  https://www.huffingtonpost.com/entry/beyonce-c...   \n",
       "\n",
       "                                   short_description  \\\n",
       "0  Zephyr Teachout pitches more broadband as part...   \n",
       "1  \"One bullet stops a lot of thuggery,\" tweets D...   \n",
       "2  \"The Simpsons\" character kissed meat goodbye t...   \n",
       "3  Nick Hollinger has held onto his stuffed anima...   \n",
       "4  The singer did put on an incredible performanc...   \n",
       "\n",
       "                                                text  \n",
       "0  This Democrat Is Channeling FDR With A Plan To...  \n",
       "1  Michigan GOP Official Calls For 'Another Kent ...  \n",
       "2  How Lisa Simpson Changed The Vegetarian Game. ...  \n",
       "3  Mom Tracked Down The Same Stuffed Animal Her S...  \n",
       "4  Fans Think Beyoncé Changed Her Nail Color Mid-...  "
      ]
     },
     "execution_count": 30,
     "metadata": {},
     "output_type": "execute_result"
    }
   ],
   "source": [
    "df.head()"
   ]
  },
  {
   "cell_type": "code",
   "execution_count": 31,
   "metadata": {
    "_uuid": "120aa99478cccb4022937e6b6d3abd92c74f5bb3",
    "colab": {},
    "colab_type": "code",
    "id": "QTbOuQw7gxxH"
   },
   "outputs": [],
   "source": [
    "df = df[['text', 'category']]"
   ]
  },
  {
   "cell_type": "code",
   "execution_count": 32,
   "metadata": {
    "_uuid": "36ad12bc4f9634905d660c932d6eb93ec3d1df68",
    "colab": {
     "base_uri": "https://localhost:8080/",
     "height": 142
    },
    "colab_type": "code",
    "id": "JVUm8F55gxxP",
    "outputId": "b6dca62a-738e-448b-a935-f9dafef95ad7"
   },
   "outputs": [
    {
     "name": "stdout",
     "output_type": "stream",
     "text": [
      "<class 'pandas.core.frame.DataFrame'>\n",
      "RangeIndex: 124989 entries, 0 to 124988\n",
      "Data columns (total 2 columns):\n",
      "text        124989 non-null object\n",
      "category    124989 non-null object\n",
      "dtypes: object(2)\n",
      "memory usage: 1.9+ MB\n"
     ]
    }
   ],
   "source": [
    "df.info()"
   ]
  },
  {
   "cell_type": "code",
   "execution_count": 33,
   "metadata": {
    "_uuid": "bc5f1a4dd769e3905f5df497832df8b303783dda",
    "colab": {},
    "colab_type": "code",
    "id": "OHNjk6rEgxxm"
   },
   "outputs": [],
   "source": [
    "categories = df['category']\n",
    "text = df['text']"
   ]
  },
  {
   "cell_type": "code",
   "execution_count": 34,
   "metadata": {
    "_uuid": "25ec0eddd86c81b61a6813462e48957168b400f3"
   },
   "outputs": [
    {
     "name": "stdout",
     "output_type": "stream",
     "text": [
      "total categories: 30\n",
      "category\n",
      "ARTS               1509\n",
      "ARTS & CULTURE     1339\n",
      "BLACK VOICES       3858\n",
      "BUSINESS           4254\n",
      "COLLEGE            1144\n",
      "COMEDY             3971\n",
      "CRIME              2893\n",
      "EDUCATION          1004\n",
      "ENTERTAINMENT     14257\n",
      "FIFTY              1401\n",
      "GOOD NEWS          1398\n",
      "GREEN              2622\n",
      "HEALTHY LIVING     6694\n",
      "IMPACT             2602\n",
      "LATINO VOICES      1129\n",
      "MEDIA              2815\n",
      "PARENTS            3955\n",
      "POLITICS          32739\n",
      "QUEER VOICES       4995\n",
      "RELIGION           2556\n",
      "SCIENCE            1381\n",
      "SPORTS             4167\n",
      "STYLE              2254\n",
      "TASTE              2096\n",
      "TECH               1231\n",
      "TRAVEL             2145\n",
      "WEIRD NEWS         2670\n",
      "WOMEN              3490\n",
      "WORLD NEWS         2177\n",
      "WORLDPOST          6243\n",
      "dtype: int64\n"
     ]
    }
   ],
   "source": [
    "cates = df.groupby('category')\n",
    "print(\"total categories:\", cates.ngroups)\n",
    "print(cates.size())"
   ]
  },
  {
   "cell_type": "code",
   "execution_count": 35,
   "metadata": {
    "_uuid": "386d5d9312d70a1a24d82025356752892d4f910b"
   },
   "outputs": [],
   "source": [
    "import re\n",
    "def clean_str(string):\n",
    "    \"\"\"\n",
    "    Tokenization/string cleaning for dataset\n",
    "    Every dataset is lower cased except\n",
    "    \"\"\"\n",
    "    string = re.sub(r\"\\\\\", \"\", string)    \n",
    "    string = re.sub(r\"\\'\", \"\", string)    \n",
    "    string = re.sub(r\"\\\"\", \"\", string)    \n",
    "    return string.strip().lower()"
   ]
  },
  {
   "cell_type": "code",
   "execution_count": 44,
   "metadata": {
    "_uuid": "86e266a58a5e847021fc6cebd4fc30991d02bdf9",
    "colab": {},
    "colab_type": "code",
    "id": "YJOFyzjf5fe0"
   },
   "outputs": [
    {
     "name": "stdout",
     "output_type": "stream",
     "text": [
      "0    This Democrat Is Channeling FDR With A Plan To...\n",
      "1    Michigan GOP Official Calls For 'Another Kent ...\n",
      "2    How Lisa Simpson Changed The Vegetarian Game. ...\n",
      "3    Mom Tracked Down The Same Stuffed Animal Her S...\n",
      "4    Fans Think Beyoncé Changed Her Nail Color Mid-...\n",
      "Name: text, dtype: object\n"
     ]
    }
   ],
   "source": [
    "paras = []\n",
    "labels = []\n",
    "texts = []\n",
    "print(df.text.head())\n",
    "df.text.to_csv('narrow.txt')"
   ]
  },
  {
   "cell_type": "code",
   "execution_count": 37,
   "metadata": {
    "_uuid": "4b8f64afbf8acc01a08f6f4ec577053908c7cc7d",
    "colab": {
     "base_uri": "https://localhost:8080/",
     "height": 53
    },
    "colab_type": "code",
    "id": "FxeewB4Jgxx3",
    "outputId": "909116f6-d7a0-4383-91cb-f6de9d3171ed"
   },
   "outputs": [],
   "source": [
    "sent_lens = []\n",
    "sent_nums = []\n",
    "for idx in range(df.text.shape[0]):\n",
    "    text = clean_str(df.text[idx])\n",
    "    texts.append(text)\n",
    "    sentences = tokenize.sent_tokenize(text)\n",
    "    sent_nums.append(len(sentences))\n",
    "    for sent in sentences:\n",
    "        sent_lens.append(len(sent))\n",
    "    paras.append(sentences)"
   ]
  },
  {
   "cell_type": "code",
   "execution_count": 38,
   "metadata": {
    "_uuid": "e2104dd4695bf017fd45c7dc4c9d1e9cd43122a4"
   },
   "outputs": [
    {
     "data": {
      "image/png": "[encoded data removed]",
      "text/plain": [
       "<Figure size 432x288 with 1 Axes>"
      ]
     },
     "metadata": {
      "needs_background": "light"
     },
     "output_type": "display_data"
    }
   ],
   "source": [
    "sns.distplot(sent_lens, bins=200)\n",
    "plt.show()"
   ]
  },
  {
   "cell_type": "code",
   "execution_count": 45,
   "metadata": {
    "_uuid": "d755a630a563cb8fd8e6bc8cd3c2ae4bd2a98a00"
   },
   "outputs": [
    {
     "name": "stderr",
     "output_type": "stream",
     "text": [
      "c:\\users\\jana\\appdata\\local\\programs\\python\\python36\\lib\\site-packages\\scipy\\stats\\stats.py:1713: FutureWarning: Using a non-tuple sequence for multidimensional indexing is deprecated; use `arr[tuple(seq)]` instead of `arr[seq]`. In the future this will be interpreted as an array index, `arr[np.array(seq)]`, which will result either in an error or a different result.\n",
      "  return np.add.reduce(sorted[indexer] * weights, axis=axis) / sumval\n"
     ]
    },
    {
     "data": {
      "image/png": "[encoded data removed]",
      "text/plain": [
       "<Figure size 432x288 with 1 Axes>"
      ]
     },
     "metadata": {
      "needs_background": "light"
     },
     "output_type": "display_data"
    }
   ],
   "source": [
    "sns.distplot(sent_nums)\n",
    "plt.show()"
   ]
  },
  {
   "cell_type": "code",
   "execution_count": 49,
   "metadata": {
    "_uuid": "c3ea2a3aefd267b46c0947c04a7ad58bc9ca5e64",
    "colab": {},
    "colab_type": "code",
    "id": "zVjGIuJygxyP"
   },
   "outputs": [],
   "source": [
    "tokenizer = Tokenizer(num_words=max_features)\n",
    "tokenizer.fit_on_texts(texts)"
   ]
  },
  {
   "cell_type": "code",
   "execution_count": 50,
   "metadata": {
    "_uuid": "2c6fca0199d8a02d21834d71b8acf8809cf3af39",
    "colab": {},
    "colab_type": "code",
    "id": "99Jsdgjzgxyc"
   },
   "outputs": [],
   "source": [
    "data = np.zeros((len(texts), max_senten_num, max_senten_len), dtype='int32')\n",
    "for i, sentences in enumerate(paras):\n",
    "    for j, sent in enumerate(sentences):\n",
    "        if j< max_senten_num:\n",
    "            wordTokens = text_to_word_sequence(sent)\n",
    "            k=0\n",
    "            for _, word in enumerate(wordTokens):\n",
    "                try:\n",
    "                    if k<max_senten_len and tokenizer.word_index[word]<max_features:\n",
    "                        data[i,j,k] = tokenizer.word_index[word]\n",
    "                        k=k+1\n",
    "                except:\n",
    "                    print(word)\n",
    "                    pass"
   ]
  },
  {
   "cell_type": "code",
   "execution_count": 51,
   "metadata": {
    "_uuid": "bd1e9d50df128646970caf5ce82de4af47ff6bdf",
    "colab": {
     "base_uri": "https://localhost:8080/",
     "height": 35
    },
    "colab_type": "code",
    "id": "OpKjmFmHgxyl",
    "outputId": "72313723-5fe8-49fa-9969-505c16be3cdc"
   },
   "outputs": [
    {
     "data": {
      "text/plain": [
       "(0, 4, 150)"
      ]
     },
     "execution_count": 51,
     "metadata": {},
     "output_type": "execute_result"
    }
   ],
   "source": [
    "data.shape"
   ]
  },
  {
   "cell_type": "code",
   "execution_count": 52,
   "metadata": {
    "_uuid": "5d65bf7613c3e0e217b569fe1eb71fe7cc860cad",
    "colab": {
     "base_uri": "https://localhost:8080/",
     "height": 35
    },
    "colab_type": "code",
    "id": "YUgnmB2Igxyt",
    "outputId": "c5202c59-4f84-49fd-8bfa-5202f2b93262"
   },
   "outputs": [
    {
     "name": "stdout",
     "output_type": "stream",
     "text": [
      "Total 0 unique tokens.\n"
     ]
    }
   ],
   "source": [
    "word_index = tokenizer.word_index\n",
    "print('Total %s unique tokens.' % len(word_index))"
   ]
  },
  {
   "cell_type": "code",
   "execution_count": 53,
   "metadata": {
    "_uuid": "64988b0eb1bde78817814d931878938210926954",
    "colab": {},
    "colab_type": "code",
    "id": "InD64lzYvzeL"
   },
   "outputs": [],
   "source": [
    "labels = pd.get_dummies(categories)"
   ]
  },
  {
   "cell_type": "code",
   "execution_count": 54,
   "metadata": {
    "_uuid": "3b57aabbe00d6cf62bd98d191c45706250416dab",
    "colab": {
     "base_uri": "https://localhost:8080/",
     "height": 53
    },
    "colab_type": "code",
    "id": "edq6g1Ybgxy3",
    "outputId": "6eb054ad-6950-4be5-e1ee-831c08847cfa"
   },
   "outputs": [
    {
     "name": "stdout",
     "output_type": "stream",
     "text": [
      "Shape of data tensor: (0, 4, 150)\n",
      "Shape of labels tensor: (124989, 30)\n"
     ]
    }
   ],
   "source": [
    "print('Shape of data tensor:', data.shape)\n",
    "print('Shape of labels tensor:', labels.shape)"
   ]
  },
  {
   "cell_type": "code",
   "execution_count": 55,
   "metadata": {
    "_uuid": "7986ef7e95450ca74fbd33aadf8dec63ac3e7c1e",
    "colab": {
     "base_uri": "https://localhost:8080/",
     "height": 108
    },
    "colab_type": "code",
    "id": "ucjMEEnugxy-",
    "outputId": "4390f1ea-b954-422d-a705-b333fbf52d4e"
   },
   "outputs": [
    {
     "name": "stdout",
     "output_type": "stream",
     "text": [
      "Number of positive and negative reviews in traing and validation set\n",
      "['ARTS', 'ARTS & CULTURE', 'BLACK VOICES', 'BUSINESS', 'COLLEGE', 'COMEDY', 'CRIME', 'EDUCATION', 'ENTERTAINMENT', 'FIFTY', 'GOOD NEWS', 'GREEN', 'HEALTHY LIVING', 'IMPACT', 'LATINO VOICES', 'MEDIA', 'PARENTS', 'POLITICS', 'QUEER VOICES', 'RELIGION', 'SCIENCE', 'SPORTS', 'STYLE', 'TASTE', 'TECH', 'TRAVEL', 'WEIRD NEWS', 'WOMEN', 'WORLD NEWS', 'WORLDPOST']\n",
      "[0, 0, 0, 0, 0, 0, 0, 0, 0, 0, 0, 0, 0, 0, 0, 0, 0, 0, 0, 0, 0, 0, 0, 0, 0, 0, 0, 0, 0, 0]\n",
      "[0, 0, 0, 0, 0, 0, 0, 0, 0, 0, 0, 0, 0, 0, 0, 0, 0, 0, 0, 0, 0, 0, 0, 0, 0, 0, 0, 0, 0, 0]\n"
     ]
    }
   ],
   "source": [
    "indices = np.arange(data.shape[0])\n",
    "np.random.shuffle(indices)\n",
    "data = data[indices]\n",
    "labels = labels.iloc[indices]\n",
    "nb_validation_samples = int(VALIDATION_SPLIT * data.shape[0])\n",
    "\n",
    "x_train = data[:-nb_validation_samples]\n",
    "y_train = labels[:-nb_validation_samples]\n",
    "x_val = data[-nb_validation_samples:]\n",
    "y_val = labels[-nb_validation_samples:]\n",
    "print('Number of positive and negative reviews in traing and validation set')\n",
    "print(y_train.columns.tolist())\n",
    "print(y_train.sum(axis=0).tolist())\n",
    "print(y_val.sum(axis=0).tolist())"
   ]
  },
  {
   "cell_type": "markdown",
   "metadata": {
    "_uuid": "a31545078acc77f424c95c33d59a96f502aba10b",
    "colab_type": "text",
    "id": "l2UCwLNggxzM"
   },
   "source": [
    "### Model"
   ]
  },
  {
   "cell_type": "code",
   "execution_count": 56,
   "metadata": {
    "_uuid": "1115433c3ea4d0f17b5ce6671e3da90b32787faf",
    "colab": {},
    "colab_type": "code",
    "id": "ZDr03TLigxzQ"
   },
   "outputs": [],
   "source": [
    "REG_PARAM = 1e-13\n",
    "l2_reg = regularizers.l2(REG_PARAM)"
   ]
  },
  {
   "cell_type": "code",
   "execution_count": 57,
   "metadata": {
    "_uuid": "9bff7cfc93983318f015bc4758dfa94579b9cba1",
    "colab": {},
    "colab_type": "code",
    "id": "PGRLk4Q1z1U-"
   },
   "outputs": [],
   "source": [
    "import os"
   ]
  },
  {
   "cell_type": "code",
   "execution_count": 60,
   "metadata": {
    "_uuid": "88df613e2852c82455dfc92d953f5ff41b1569c0",
    "colab": {
     "base_uri": "https://localhost:8080/",
     "height": 35
    },
    "colab_type": "code",
    "id": "bp4upuqFu3Eb",
    "outputId": "2ac20441-d569-4bf5-e7af-aa23e31c866d"
   },
   "outputs": [
    {
     "name": "stdout",
     "output_type": "stream",
     "text": [
      "Total 400000 word vectors.\n"
     ]
    }
   ],
   "source": [
    "GLOVE_DIR = \"C:\\\\Users\\\\jana\\\\Desktop\\\\new project\\\\DeepResearch-master\\\\Hierarchical_Attention_Network\\\\glove.6B.100d.txt\"\n",
    "embeddings_index = {}\n",
    "f = open(GLOVE_DIR,  encoding=\"utf8\" )\n",
    "for line in f:\n",
    "    try:\n",
    "        values = line.split()\n",
    "        word = values[0]\n",
    "        coefs = np.asarray(values[1:], dtype='float32')\n",
    "        embeddings_index[word] = coefs\n",
    "    except:\n",
    "        print(word)\n",
    "        pass\n",
    "f.close()\n",
    "print('Total %s word vectors.' % len(embeddings_index))"
   ]
  },
  {
   "cell_type": "code",
   "execution_count": 75,
   "metadata": {
    "_uuid": "cdecbaf4ce77b9246690e0c3e33312f9d3c80616",
    "colab": {},
    "colab_type": "code",
    "id": "6jsAMA-H0Nqi"
   },
   "outputs": [],
   "source": [
    "embedding_matrix = np.zeros((len(word_index) + 1, embed_size))\n",
    "absent_words = 0\n",
    "for word, i in word_index.items():\n",
    "    embedding_vector = embeddings_index.get(word)\n",
    "    if embedding_vector is not None:\n",
    "        # words not found in embedding index will be all-zeros.\n",
    "        embedding_matrix[i] = embedding_vector\n",
    "    else:\n",
    "        absent_words += 1\n",
    "#print('Total absent words are', absent_words, 'which is', \"%0.2f\" % (absent_words * 100 / len(word_index)), '% of total words')\n",
    "for word, i in word_index.items():\n",
    "    #embedding_vector = embeddings_index.get(word)\n",
    "    #print('Total absent words are', embedding_vector)\n",
    "    print(word,'',i)"
   ]
  },
  {
   "cell_type": "code",
   "execution_count": 96,
   "metadata": {
    "_uuid": "e633b8544e7a209f099130c0573f6045dc9aeec5",
    "colab": {},
    "colab_type": "code",
    "id": "k4rWQsaV0Yx8"
   },
   "outputs": [],
   "source": [
    "embedding_layer = Embedding(len(word_index) + 1,embed_size,weights=[embedding_matrix], input_length=max_senten_len, trainable=False)"
   ]
  },
  {
   "cell_type": "code",
   "execution_count": 97,
   "metadata": {
    "_uuid": "abdb6adfcfaace47815d0ae083ee45a0e2c31e6e",
    "colab": {},
    "colab_type": "code",
    "id": "c2RcVWFTgxzc"
   },
   "outputs": [],
   "source": [
    "word_input = Input(shape=(max_senten_len,), dtype='float32')\n",
    "word_sequences = embedding_layer(word_input)\n",
    "word_lstm = Bidirectional(LSTM(150, return_sequences=True, kernel_regularizer=l2_reg))(word_sequences)\n",
    "word_dense = TimeDistributed(Dense(200, kernel_regularizer=l2_reg))(word_lstm)\n",
    "word_att = AttentionWithContext()(word_dense)\n",
    "wordEncoder = Model(word_input, word_att)\n",
    "\n",
    "sent_input = Input(shape=(max_senten_num, max_senten_len), dtype='float32')\n",
    "sent_encoder = TimeDistributed(wordEncoder)(sent_input)\n",
    "sent_lstm = Bidirectional(LSTM(150, return_sequences=True, kernel_regularizer=l2_reg))(sent_encoder)\n",
    "sent_dense = TimeDistributed(Dense(200, kernel_regularizer=l2_reg))(sent_lstm)\n",
    "sent_att = Dropout(0.5)(AttentionWithContext()(sent_dense))\n",
    "preds = Dense(30, activation='softmax')(sent_att)\n",
    "model = Model(sent_input, preds)\n",
    "model.compile(loss='categorical_crossentropy',optimizer='adam',metrics=['acc'])"
   ]
  },
  {
   "cell_type": "code",
   "execution_count": 109,
   "metadata": {
    "_uuid": "c784c8c618c0c09870329374d40635174e628975"
   },
   "outputs": [],
   "source": [
    "checkpoint = ModelCheckpoint('best_model.hdf5', verbose=0, monitor='val_loss',save_best_only=True, mode='auto') "
   ]
  },
  {
   "cell_type": "code",
   "execution_count": 110,
   "metadata": {
    "_uuid": "70fbbd2f34955592a8968d8ab95ce3fee6d3c64d",
    "colab": {
     "base_uri": "https://localhost:8080/",
     "height": 53
    },
    "colab_type": "code",
    "id": "nf5L1DvTgxzx",
    "outputId": "5148c7e8-7c84-4237-e479-5359b79aea80"
   },
   "outputs": [
    {
     "name": "stdout",
     "output_type": "stream",
     "text": [
      "_________________________________________________________________\n",
      "Layer (type)                 Output Shape              Param #   \n",
      "=================================================================\n",
      "input_8 (InputLayer)         (None, 4, 150)            0         \n",
      "_________________________________________________________________\n",
      "time_distributed_11 (TimeDis (None, 4, 200)            401900    \n",
      "_________________________________________________________________\n",
      "bidirectional_8 (Bidirection (None, 4, 300)            421200    \n",
      "_________________________________________________________________\n",
      "time_distributed_12 (TimeDis (None, 4, 200)            60200     \n",
      "_________________________________________________________________\n",
      "attention_with_context_8 (At (None, 200)               40400     \n",
      "_________________________________________________________________\n",
      "dropout_4 (Dropout)          (None, 200)               0         \n",
      "_________________________________________________________________\n",
      "dense_12 (Dense)             (None, 30)                6030      \n",
      "=================================================================\n",
      "Total params: 929,730\n",
      "Trainable params: 929,630\n",
      "Non-trainable params: 100\n",
      "_________________________________________________________________\n"
     ]
    }
   ],
   "source": [
    "history = model.fit(x_train, y_train, validation_data=(x_val, y_val), epochs=25, verbose = 0, batch_size=84, callbacks=[checkpoint])\n",
    "model.summary()"
   ]
  },
  {
   "cell_type": "markdown",
   "metadata": {
    "_uuid": "07e8fe10d1d1f0871910c9b853c63b8f4c9f0ea0",
    "colab_type": "text",
    "id": "wolj9v-Hgxz4"
   },
   "source": [
    "## Plotting time"
   ]
  },
  {
   "cell_type": "code",
   "execution_count": 111,
   "metadata": {
    "_uuid": "57e64fc5401cdcb8a566f12b73cf5b1375b731f2",
    "colab": {},
    "colab_type": "code",
    "id": "VtGi4Wb8gxz7"
   },
   "outputs": [
    {
     "name": "stdout",
     "output_type": "stream",
     "text": [
      "dict_keys([])\n"
     ]
    }
   ],
   "source": [
    "print(history.history.keys())"
   ]
  },
  {
   "cell_type": "code",
   "execution_count": 112,
   "metadata": {
    "_uuid": "ee701e2133cc49ef4d0213a69d0b91da841f45aa",
    "colab": {},
    "colab_type": "code",
    "id": "qwdyK1hygx0K"
   },
   "outputs": [
    {
     "ename": "KeyError",
     "evalue": "'acc'",
     "output_type": "error",
     "traceback": [
      "\u001b[1;31m---------------------------------------------------------------------------\u001b[0m",
      "\u001b[1;31mKeyError\u001b[0m                                  Traceback (most recent call last)",
      "\u001b[1;32m<ipython-input-112-dc2026473f3c>\u001b[0m in \u001b[0;36m<module>\u001b[1;34m\u001b[0m\n\u001b[0;32m      1\u001b[0m \u001b[1;31m# summarize history for accuracy\u001b[0m\u001b[1;33m\u001b[0m\u001b[1;33m\u001b[0m\u001b[0m\n\u001b[1;32m----> 2\u001b[1;33m \u001b[0mplt\u001b[0m\u001b[1;33m.\u001b[0m\u001b[0mplot\u001b[0m\u001b[1;33m(\u001b[0m\u001b[0mhistory\u001b[0m\u001b[1;33m.\u001b[0m\u001b[0mhistory\u001b[0m\u001b[1;33m[\u001b[0m\u001b[1;34m'acc'\u001b[0m\u001b[1;33m]\u001b[0m\u001b[1;33m)\u001b[0m\u001b[1;33m\u001b[0m\u001b[0m\n\u001b[0m\u001b[0;32m      3\u001b[0m \u001b[0mplt\u001b[0m\u001b[1;33m.\u001b[0m\u001b[0mplot\u001b[0m\u001b[1;33m(\u001b[0m\u001b[0mhistory\u001b[0m\u001b[1;33m.\u001b[0m\u001b[0mhistory\u001b[0m\u001b[1;33m[\u001b[0m\u001b[1;34m'val_acc'\u001b[0m\u001b[1;33m]\u001b[0m\u001b[1;33m)\u001b[0m\u001b[1;33m\u001b[0m\u001b[0m\n\u001b[0;32m      4\u001b[0m \u001b[0mplt\u001b[0m\u001b[1;33m.\u001b[0m\u001b[0mtitle\u001b[0m\u001b[1;33m(\u001b[0m\u001b[1;34m'model accuracy'\u001b[0m\u001b[1;33m)\u001b[0m\u001b[1;33m\u001b[0m\u001b[0m\n\u001b[0;32m      5\u001b[0m \u001b[0mplt\u001b[0m\u001b[1;33m.\u001b[0m\u001b[0mylabel\u001b[0m\u001b[1;33m(\u001b[0m\u001b[1;34m'accuracy'\u001b[0m\u001b[1;33m)\u001b[0m\u001b[1;33m\u001b[0m\u001b[0m\n",
      "\u001b[1;31mKeyError\u001b[0m: 'acc'"
     ]
    }
   ],
   "source": [
    "# summarize history for accuracy\n",
    "plt.plot(history.history['acc'])\n",
    "plt.plot(history.history['val_acc'])\n",
    "plt.title('model accuracy')\n",
    "plt.ylabel('accuracy')\n",
    "plt.xlabel('epoch')\n",
    "plt.legend(['train', 'test'], loc='upper left')\n",
    "plt.show()"
   ]
  },
  {
   "cell_type": "code",
   "execution_count": null,
   "metadata": {
    "_uuid": "c368b91a0311a5102155afbe4f2c5e921de70c8b",
    "colab": {},
    "colab_type": "code",
    "collapsed": true,
    "id": "4gEkjJhNgx0h"
   },
   "outputs": [],
   "source": [
    "# summarize history for loss\n",
    "plt.plot(history.history['loss'])\n",
    "plt.plot(history.history['val_loss'])\n",
    "plt.title('model loss')\n",
    "plt.ylabel('loss')\n",
    "plt.xlabel('epoch')\n",
    "plt.legend(['train', 'test'], loc='upper left')\n",
    "plt.show()"
   ]
  },
  {
   "cell_type": "code",
   "execution_count": null,
   "metadata": {
    "_uuid": "00acec50b30ec415a2330689ad8980c328039aa1",
    "colab": {},
    "colab_type": "code",
    "collapsed": true,
    "id": "S7CPi8SJgx0r"
   },
   "outputs": [],
   "source": [
    "model.save('han.h5')"
   ]
  },
  {
   "cell_type": "code",
   "execution_count": null,
   "metadata": {
    "_uuid": "0154264d53beb4bb1e6d49fd43c25018b96ff3cc",
    "colab": {},
    "colab_type": "code",
    "collapsed": true,
    "id": "9YMhUZe3gx0v"
   },
   "outputs": [],
   "source": []
  },
  {
   "cell_type": "code",
   "execution_count": null,
   "metadata": {
    "_uuid": "6b3d4700b11d9086dc00f1c2c46a65c07c22a52f",
    "colab": {},
    "colab_type": "code",
    "collapsed": true,
    "id": "_KZvee64gx06"
   },
   "outputs": [],
   "source": []
  }
 ],
 "metadata": {
  "accelerator": "GPU",
  "colab": {
   "collapsed_sections": [],
   "name": "HAN.ipynb",
   "provenance": [],
   "toc_visible": true,
   "version": "0.3.2"
  },
  "kernelspec": {
   "display_name": "Python 3",
   "language": "python",
   "name": "python3"
  },
  "language_info": {
   "codemirror_mode": {
    "name": "ipython",
    "version": 3
   },
   "file_extension": ".py",
   "mimetype": "text/x-python",
   "name": "python",
   "nbconvert_exporter": "python",
   "pygments_lexer": "ipython3",
   "version": "3.6.3"
  }
 },
 "nbformat": 4,
 "nbformat_minor": 1
}
